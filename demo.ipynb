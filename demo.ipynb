{
 "cells": [
  {
   "cell_type": "code",
   "execution_count": 1,
   "metadata": {},
   "outputs": [
    {
     "name": "stderr",
     "output_type": "stream",
     "text": [
      "e:\\rdv_finder\\venv\\Lib\\site-packages\\tqdm\\auto.py:21: TqdmWarning: IProgress not found. Please update jupyter and ipywidgets. See https://ipywidgets.readthedocs.io/en/stable/user_install.html\n",
      "  from .autonotebook import tqdm as notebook_tqdm\n"
     ]
    }
   ],
   "source": [
    "# basic libraries\n",
    "import random\n",
    "import time\n",
    "import pickle\n",
    "import os\n",
    "\n",
    "# selenium web driver and related tools\n",
    "from selenium import webdriver\n",
    "from selenium.webdriver.chrome.options import Options\n",
    "from selenium.webdriver.support.ui import WebDriverWait\n",
    "from selenium.webdriver.support import expected_conditions as EC\n",
    "from selenium.webdriver.common.by import By\n",
    "from selenium.webdriver.common.action_chains import ActionChains\n",
    "\n",
    "# OCR tools\n",
    "from transformers import TrOCRProcessor, VisionEncoderDecoderModel\n",
    "from PIL import Image\n",
    "import torch\n",
    "import re"
   ]
  },
  {
   "cell_type": "markdown",
   "metadata": {},
   "source": [
    "Model definition block..."
   ]
  },
  {
   "cell_type": "code",
   "execution_count": 2,
   "metadata": {},
   "outputs": [
    {
     "name": "stderr",
     "output_type": "stream",
     "text": [
      "Config of the encoder: <class 'transformers.models.vit.modeling_vit.ViTModel'> is overwritten by shared encoder config: ViTConfig {\n",
      "  \"attention_probs_dropout_prob\": 0.0,\n",
      "  \"encoder_stride\": 16,\n",
      "  \"hidden_act\": \"gelu\",\n",
      "  \"hidden_dropout_prob\": 0.0,\n",
      "  \"hidden_size\": 768,\n",
      "  \"image_size\": 384,\n",
      "  \"initializer_range\": 0.02,\n",
      "  \"intermediate_size\": 3072,\n",
      "  \"layer_norm_eps\": 1e-12,\n",
      "  \"model_type\": \"vit\",\n",
      "  \"num_attention_heads\": 12,\n",
      "  \"num_channels\": 3,\n",
      "  \"num_hidden_layers\": 12,\n",
      "  \"patch_size\": 16,\n",
      "  \"qkv_bias\": false,\n",
      "  \"transformers_version\": \"4.46.0\"\n",
      "}\n",
      "\n",
      "Config of the decoder: <class 'transformers.models.trocr.modeling_trocr.TrOCRForCausalLM'> is overwritten by shared decoder config: TrOCRConfig {\n",
      "  \"activation_dropout\": 0.0,\n",
      "  \"activation_function\": \"gelu\",\n",
      "  \"add_cross_attention\": true,\n",
      "  \"attention_dropout\": 0.0,\n",
      "  \"bos_token_id\": 0,\n",
      "  \"classifier_dropout\": 0.0,\n",
      "  \"cross_attention_hidden_size\": 768,\n",
      "  \"d_model\": 1024,\n",
      "  \"decoder_attention_heads\": 16,\n",
      "  \"decoder_ffn_dim\": 4096,\n",
      "  \"decoder_layerdrop\": 0.0,\n",
      "  \"decoder_layers\": 12,\n",
      "  \"decoder_start_token_id\": 2,\n",
      "  \"dropout\": 0.1,\n",
      "  \"eos_token_id\": 2,\n",
      "  \"init_std\": 0.02,\n",
      "  \"is_decoder\": true,\n",
      "  \"layernorm_embedding\": true,\n",
      "  \"max_position_embeddings\": 512,\n",
      "  \"model_type\": \"trocr\",\n",
      "  \"pad_token_id\": 1,\n",
      "  \"scale_embedding\": false,\n",
      "  \"transformers_version\": \"4.46.0\",\n",
      "  \"use_cache\": false,\n",
      "  \"use_learned_position_embeddings\": true,\n",
      "  \"vocab_size\": 50265\n",
      "}\n",
      "\n",
      "Some weights of VisionEncoderDecoderModel were not initialized from the model checkpoint at microsoft/trocr-base-printed and are newly initialized: ['encoder.pooler.dense.bias', 'encoder.pooler.dense.weight']\n",
      "You should probably TRAIN this model on a down-stream task to be able to use it for predictions and inference.\n"
     ]
    }
   ],
   "source": [
    "import torch\n",
    "from transformers import TrOCRProcessor, VisionEncoderDecoderModel\n",
    "\n",
    "# Load the processor and model\n",
    "processor = TrOCRProcessor.from_pretrained(\"microsoft/trocr-base-printed\")\n",
    "model = VisionEncoderDecoderModel.from_pretrained(\"microsoft/trocr-base-printed\")\n",
    "\n",
    "# # Get the tokenizer\n",
    "# tokenizer = processor.tokenizer\n",
    "\n",
    "# # Modify the vocabulary to include only numbers and letters\n",
    "# allowed_tokens = [token for token in tokenizer.get_vocab() if token.isalnum()]\n",
    "# tokenizer.add_tokens(allowed_tokens)\n",
    "\n",
    "# # Set the new tokenizer back to the processor\n",
    "# processor.tokenizer = tokenizer\n",
    "\n",
    "# Set the device\n",
    "device = torch.device(\"cuda\" if torch.cuda.is_available() else \"cpu\")"
   ]
  },
  {
   "cell_type": "code",
   "execution_count": 3,
   "metadata": {},
   "outputs": [],
   "source": [
    "def setup_driver():\n",
    "    user_agents = [\n",
    "        \"Mozilla/5.0 (Windows NT 10.0; Win64; x64) AppleWebKit/537.36 (KHTML, like Gecko) Chrome/89.0.4389.82 Safari/537.36\",\n",
    "        \"Mozilla/5.0 (Macintosh; Intel Mac OS X 10_15_7) AppleWebKit/537.36 (KHTML, like Gecko) Chrome/91.0.4472.124 Safari/537.36\",\n",
    "        \"Mozilla/5.0 (Windows NT 10.0; Win64; x64) AppleWebKit/537.36 (KHTML, like Gecko) Firefox/89.0\",\n",
    "    ]\n",
    "    window_sizes = [\"1920x1080\", \"1366x768\", \"1280x720\"]\n",
    "\n",
    "    options = Options()\n",
    "    options.add_argument(f'user-agent={random.choice(user_agents)}')\n",
    "    options.add_argument(f'--window-size={random.choice(window_sizes)}')\n",
    "    # options.add_argument('--headless')  # Run in headless mode if required\n",
    "\n",
    "    driver = webdriver.Chrome(options=options)\n",
    "    return driver"
   ]
  },
  {
   "cell_type": "code",
   "execution_count": 4,
   "metadata": {},
   "outputs": [],
   "source": [
    "def get_cookies(\n",
    "    max_attempts = 20,\n",
    "    timeout = 10,\n",
    "    url = 'https://www.rdv-prefecture.interieur.gouv.fr/rdvpref/reservation/demarche/4443/cgu/',\n",
    "    expected_url = \"https://www.rdv-prefecture.interieur.gouv.fr/rdvpref/reservation/demarche/4443/creneau/\",\n",
    "):\n",
    "    driver = setup_driver()\n",
    "    try:\n",
    "        count = 0\n",
    "        driver.get(url)\n",
    "        # Wait 10 seconds so that the content can be fully loaded\n",
    "        wait = WebDriverWait(driver, timeout)\n",
    "        wait.until(lambda driver: driver.execute_script('return document.readyState') == 'complete')\n",
    "        # Mimicking human behavior by waiting a random time\n",
    "        time.sleep(random.randint(2,5))\n",
    "        # Scroll to a specific position (e.g., 500 pixels down)\n",
    "        # scroll_position = 1000  # Replace with the desired vertical scroll position in pixels\n",
    "        # driver.execute_script(f\"window.scrollTo(0, {scroll_position});\")\n",
    "        while driver.current_url != expected_url and count < max_attempts:\n",
    "            while count < max_attempts//2:\n",
    "                count += 1\n",
    "                try:\n",
    "                    image_path = f\"captchas/screenshot_{count+1}.png\"\n",
    "                    captcha_image = WebDriverWait(driver, timeout).until(\n",
    "                        EC.presence_of_element_located((By.ID, \"captchaFR_CaptchaImage\"))\n",
    "                    )\n",
    "                    # captcha_image = driver.find_element(By.ID, \"captchaFR_CaptchaImage\")\n",
    "                    captcha_image.screenshot(image_path)\n",
    "                    image = Image.open(image_path).convert(\"RGB\")\n",
    "                    pixel_values = processor(images=image, return_tensors=\"pt\").pixel_values\n",
    "                    pixel_values = pixel_values.to(device)\n",
    "                    with torch.no_grad():\n",
    "                        outputs = model.generate(pixel_values, max_length=9, min_length=6, num_beams=5)\n",
    "                    decoded_text = processor.decode(outputs[0], skip_special_tokens=True)\n",
    "                    recognized_text = re.sub(r\"[^A-Z0-9]\", \"\", decoded_text)\n",
    "                    print(f\"Recognized Text {count+1}: {recognized_text}\")\n",
    "                    captcha_input = driver.find_element(By.ID, \"captchaFormulaireExtInput\")\n",
    "                    captcha_input.send_keys(recognized_text)\n",
    "                    button = WebDriverWait(driver, 10).until(\n",
    "                        EC.element_to_be_clickable((By.XPATH, \"//button[.//span[text()='Suivant']]\"))\n",
    "                    )\n",
    "                    button.click()\n",
    "                    # Wait until the next page is loaded\n",
    "                    wait.until(lambda driver: driver.execute_script('return document.readyState') == 'complete')\n",
    "                except Exception as e:\n",
    "                    print(f\"Solving CAPTCHA {count+1} failed with error: {e}\")\n",
    "                finally:\n",
    "                    continue\n",
    "            if driver.current_url != expected_url:\n",
    "                try: \n",
    "                    print(f\"Machine failed to solve CAPTCHA {count}, trying manual intervention.\")\n",
    "                    driver.refresh()\n",
    "                    wait = WebDriverWait(driver, timeout)\n",
    "                    wait.until(EC.presence_of_element_located((By.ID, \"captchaFR_CaptchaImage\")))\n",
    "                    WebDriverWait(driver, 300).until(EC.url_to_be(expected_url))\n",
    "                except Exception as e:\n",
    "                    print(f\"Failed to solve CAPTCHA {count}, manual intervention failed with error: {e}\")\n",
    "                    driver.quit()\n",
    "                finally:\n",
    "                    count += 1\n",
    "        cookies = driver.get_cookies()\n",
    "        with open(\"cookies.pkl\", \"wb\") as file:\n",
    "            pickle.dump(cookies, file)\n",
    "        print(\"Cookies sauvegardés.\")\n",
    "    finally:\n",
    "        driver.quit()"
   ]
  },
  {
   "cell_type": "markdown",
   "metadata": {},
   "source": [
    "connecting pushover app..."
   ]
  },
  {
   "cell_type": "code",
   "execution_count": 5,
   "metadata": {},
   "outputs": [],
   "source": [
    "import json\n",
    "from pushover_complete import PushoverAPI\n",
    "\n",
    "def send_pushover_notification(api_token, user_key, title, message):\n",
    "    pushover = PushoverAPI(api_token)\n",
    "    pushover.send_message(user_key, message, title=title)\n",
    "    print(\"Notification sent successfully!\")\n",
    "\n",
    "with open(\"config.json\", \"r\") as file:\n",
    "        config = json.load(file)\n",
    "        api_token = config.get(\"API_KEY\")\n",
    "        user_key = config.get(\"USER_KEY\")"
   ]
  },
  {
   "cell_type": "code",
   "execution_count": 6,
   "metadata": {},
   "outputs": [],
   "source": [
    "def drive_with_cookies(driver, url, expected_url, timeout=10):\n",
    "    driver.get(url)\n",
    "    wait = WebDriverWait(driver, timeout) # It's safer to wait due to the dynamic nature of the page\n",
    "    wait.until(lambda driver: driver.execute_script('return document.readyState') == 'complete') \n",
    "    with open(\"cookies.pkl\", \"rb\") as file:\n",
    "        cookies = pickle.load(file)\n",
    "    for cookie in cookies:\n",
    "        driver.add_cookie(cookie)\n",
    "    driver.get(expected_url)\n",
    "    wait.until(lambda driver: driver.execute_script('return document.readyState') == 'complete')"
   ]
  },
  {
   "cell_type": "markdown",
   "metadata": {},
   "source": [
    "Putting it all together..."
   ]
  },
  {
   "cell_type": "code",
   "execution_count": 7,
   "metadata": {},
   "outputs": [
    {
     "name": "stdout",
     "output_type": "stream",
     "text": [
      "Button is disabled, cannot click. !!!Aucun créneau disponible!!!\n"
     ]
    }
   ],
   "source": [
    "driver = setup_driver()\n",
    "timeout = 10\n",
    "url = 'https://www.rdv-prefecture.interieur.gouv.fr/rdvpref/reservation/demarche/4443/cgu/'\n",
    "expected_url = \"https://www.rdv-prefecture.interieur.gouv.fr/rdvpref/reservation/demarche/4443/creneau/\"\n",
    "try:\n",
    "\n",
    "    drive_with_cookies(driver, url, expected_url, timeout)\n",
    "    while driver.current_url != expected_url:\n",
    "        get_cookies()\n",
    "        with open(\"cookies.pkl\", \"rb\") as file:\n",
    "            cookies = pickle.load(file)\n",
    "        for cookie in cookies:\n",
    "            driver.add_cookie(cookie)\n",
    "        driver.get(expected_url)\n",
    "        wait = WebDriverWait(driver, timeout)\n",
    "        wait.until(lambda driver: driver.execute_script('return document.readyState') == 'complete')\n",
    "    \n",
    "    if driver.current_url == expected_url:\n",
    "        submit_button = WebDriverWait(driver, timeout).until(\n",
    "            EC.presence_of_element_located((By.XPATH, \"//button[span/span[text()='Suivant']]\"))\n",
    "        )\n",
    "        if submit_button.is_enabled():\n",
    "            print(\"Button is enabled. Attempting to click...\")\n",
    "            # Click the button\n",
    "            ActionChains(driver).move_to_element(submit_button).click(submit_button).perform()\n",
    "            # Wait to observe the result of the click\n",
    "            WebDriverWait(driver, 10).until(\n",
    "                EC.url_changes(driver.current_url)  # Wait for URL change\n",
    "            )\n",
    "            print(f\"Form submitted successfully. New URL: {driver.current_url}\")\n",
    "            # Send a Pushover notification\n",
    "            title = \"RDV Préfecture Disponible\"\n",
    "            message = \"https://www.rdv-prefecture.interieur.gouv.fr/rdvpref/reservation/demarche/4443/creneau/\"\n",
    "            send_pushover_notification(api_token, user_key, title, message)\n",
    "        else:\n",
    "            print(\"Button is disabled, cannot click. !!!Aucun créneau disponible!!!\")\n",
    "    \n",
    "    else:\n",
    "        raise Exception(\"Failed to reach the expected URL, the cookies may be invalid.\")\n",
    "finally:\n",
    "    driver.quit()"
   ]
  }
 ],
 "metadata": {
  "kernelspec": {
   "display_name": "venv",
   "language": "python",
   "name": "python3"
  },
  "language_info": {
   "codemirror_mode": {
    "name": "ipython",
    "version": 3
   },
   "file_extension": ".py",
   "mimetype": "text/x-python",
   "name": "python",
   "nbconvert_exporter": "python",
   "pygments_lexer": "ipython3",
   "version": "3.12.6"
  }
 },
 "nbformat": 4,
 "nbformat_minor": 2
}
